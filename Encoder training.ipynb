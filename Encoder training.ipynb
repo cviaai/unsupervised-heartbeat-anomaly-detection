{
  "cells": [
    {
      "cell_type": "code",
      "metadata": {
        "id": "jKakBUsA-L7v",
        "colab_type": "code",
        "colab": {}
      },
      "source": [
        "import numpy as np\n",
        "from torch.autograd import Variable\n",
        "import torch.nn as nn\n",
        "import torch.nn.functional as F\n",
        "import torch.optim as optim\n",
        "import torch.utils.data as data_utils\n",
        "import torch\n",
        "import matplotlib.pyplot as plt\n",
        "%matplotlib inline\n",
        "import pandas as pd\n",
        "import numpy as np\n",
        "import pickle\n",
        "#import ot\n",
        "from abc import ABC, abstractmethod\n",
        "import pickle\n",
        "from statistic.wasserstein_distance import WassersteinDistance, WassersteinDistanceDeviation\n",
        "def save_pkl(variable, name):\n",
        "    name = name + '.pkl'\n",
        "    output = open(name, 'wb')\n",
        "    pickle.dump(variable, output)\n",
        "    output.close()"
      ],
      "execution_count": 1,
      "outputs": []
    },
    {
      "cell_type": "code",
      "metadata": {
        "id": "rvinXWX--qG5",
        "colab_type": "code",
        "colab": {}
      },
      "source": [
        "curves=pd.read_pickle('data/curves_2_wind_100.pkl')\n",
        "clusters_new=pd.read_pickle('data/clust_fin.pkl')"
      ],
      "execution_count": 2,
      "outputs": []
    },
    {
      "cell_type": "code",
      "metadata": {
        "id": "OspHXBa0-tjy",
        "colab_type": "code",
        "colab": {}
      },
      "source": [
        "curves_tensors=[]\n",
        "for curve in range (len(curves)):\n",
        "  curves_tensors.append(torch.from_numpy(curves[curve]))\n",
        "\n",
        "max_shape=np.max(np.unique(list(map(len, curves))))\n",
        "new_curves=[]\n",
        "for i in range(len(curves)):\n",
        "    new=np.zeros((max_shape,3))\n",
        "    new[:curves[i].shape[0],:3]=curves[i]\n",
        "    new_curves.append(new)"
      ],
      "execution_count": 3,
      "outputs": []
    },
    {
      "cell_type": "code",
      "metadata": {
        "id": "wHJrk14nEDi3",
        "colab_type": "code",
        "colab": {}
      },
      "source": [
        "tensor_set=torch.stack([torch.Tensor(i) for i in new_curves[:-1]])\n",
        "data_set=data_utils.TensorDataset(tensor_set,)\n",
        "train_loader=data_utils.DataLoader(data_set,batch_size=16,shuffle=True)"
      ],
      "execution_count": 4,
      "outputs": []
    },
    {
      "cell_type": "code",
      "metadata": {
        "id": "FJRyqZzT_duZ",
        "colab_type": "code",
        "colab": {}
      },
      "source": [
        "class Flatten(nn.Module):\n",
        "    def forward(self, input):\n",
        "        return input.view(input.size(0), -1)\n",
        "      \n",
        "class View(nn.Module):\n",
        "    def __init__(self, *shape):\n",
        "        super(View, self).__init__()\n",
        "        self.shape = shape\n",
        "    def forward(self, input):\n",
        "        return input.view(input.size(0),*self.shape)\n"
      ],
      "execution_count": 5,
      "outputs": []
    },
    {
      "cell_type": "code",
      "metadata": {
        "id": "Na_xQlBHifA6",
        "colab_type": "code",
        "colab": {}
      },
      "source": [
        "dimZ = 200 # Considering face reconstruction task, which size of representation seems reasonable?\n",
        "batch_size=1\n",
        "\n",
        "class Encoder(nn.Module):\n",
        "    def __init__(self):\n",
        "        super(Encoder, self).__init__()\n",
        "        def init_weights(m):\n",
        "            if type(m) == nn.Linear:\n",
        "                torch.nn.init.xavier_uniform_(m.weight)\n",
        "                m.bias.data.fill_(0.0)\n",
        "        \n",
        "        self.encoder=nn.Sequential()\n",
        "        self.encoder.add_module('linear1',nn.Linear(1*2236*3,500))\n",
        "        self.encoder.add_module('relu_1',nn.ReLU())\n",
        "        \n",
        "        \n",
        "        self.encoder.add_module('linear2',nn.Linear(500,100))\n",
        "        self.encoder.add_module('active1',nn.Sigmoid())\n",
        "        self.encoder.apply(init_weights)\n",
        "    def forward(self, x):\n",
        "\n",
        "      latent_code =self.encoder(x)\n",
        "\n",
        "\n",
        "      return latent_code"
      ],
      "execution_count": 6,
      "outputs": []
    },
    {
      "cell_type": "code",
      "metadata": {
        "id": "roQn-zyl_OhT",
        "colab_type": "code",
        "colab": {}
      },
      "source": [
        "\n",
        "device = torch.device('cuda')\n",
        "# criterion = torch.nn.MSELoss()\n",
        "# autoencoder =Encoder().cuda()\n",
        "# optimizer = optim.Adam(autoencoder.parameters(),lr=1e-3)"
      ],
      "execution_count": 8,
      "outputs": []
    },
    {
      "cell_type": "code",
      "metadata": {
        "id": "7eRYtoaZp4Gp",
        "colab_type": "code",
        "colab": {}
      },
      "source": [
        "import ot\n",
        "from scipy import linalg\n",
        "dist=WassersteinDistance(2)"
      ],
      "execution_count": 9,
      "outputs": []
    },
    {
      "cell_type": "code",
      "metadata": {
        "id": "-nnZgLbWvfEB",
        "colab_type": "code",
        "outputId": "e52ecefa-1bdb-4c2e-c0a5-81e3ff425c28",
        "colab": {
          "base_uri": "https://localhost:8080/",
          "height": 751
        }
      },
      "source": [
        "image_progress=[]\n",
        "loss_history=[]\n",
        "for i in range(50):\n",
        "    print(i)\n",
        "    autoencoder.train(True)\n",
        "    loss_epoch=[]\n",
        "    for x_batch,y_batch in tqdm(train_loader):\n",
        "        results=[]\n",
        "        for batch in x_batch:\n",
        "          x_batch_new=batch.reshape(1,-1)\n",
        "          x_batch_new=Variable(x_batch_new).cuda()\n",
        "          res=autoencoder(x_batch_new)\n",
        "          results.append(res)\n",
        "\n",
        "        a=np.random.randint(0,len(x_batch),4)\n",
        "        euclide=torch.norm(results[a[0]]-results[a[1]],p=2)\n",
        "        euclide_1=torch.norm(results[a[2]]-results[a[3]],p=2)\n",
        "        distance=torch.tensor(dist(x_batch[a[0]],x_batch[a[1]])).cuda()\n",
        "        distance_1=torch.tensor(dist(x_batch[a[2]],x_batch[a[3]])).cuda()\n",
        "        if clusters[0]==clusters[1]:\n",
        "\n",
        "        loss_1=criterion(euclide,distance)\n",
        "        loss_2=criterion(euclide_1,distance_1)\n",
        "        \n",
        "        loss=loss_1+loss_2\n",
        "\n",
        "        loss.backward()\n",
        "        optimizer.step()\n",
        "        optimizer.zero_grad()\n",
        "        \n",
        "        loss_epoch.append(loss.data.cpu().numpy())\n",
        "    if i%5==0:\n",
        "      torch.save(autoencoder, 'model_simple_auto'+str(i)+'.ckpt')\n",
        "      torch.save(autoencoder.state_dict(), 'params_model_simple_auto'+str(i)+'.ckpt')\n",
        "\n",
        "    autoencoder.train(False)    \n",
        "\n",
        "    loss_history.append(np.mean(loss_epoch))\n",
        "    print(np.mean(loss_epoch))\n",
        "    \n",
        "  \n",
        "    plt.figure(figsize=(8, 6))\n",
        "    plt.title(\"Training loss decay\")\n",
        "    plt.xlabel(\"epoch\")\n",
        "    plt.ylabel(\"loss\")\n",
        "    plt.semilogy(loss_history, label = 'training loss')\n",
        "    plt.show()"
      ],
      "execution_count": 10,
      "outputs": []
    },
    {
      "cell_type": "code",
      "metadata": {
        "id": "00_eFdqXNlz7",
        "colab_type": "code",
        "colab": {}
      },
      "source": [],
      "execution_count": 0,
      "outputs": []
    }
  ],
  "metadata": {
    "colab": {
      "name": "Копия Untitled0.ipynb",
      "provenance": [],
      "collapsed_sections": []
    },
    "kernelspec": {
      "name": "python3",
      "display_name": "Python 3"
    },
    "accelerator": "GPU"
  },
  "nbformat": 4,
  "nbformat_minor": 0
}